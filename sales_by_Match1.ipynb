{
 "cells": [
  {
   "cell_type": "code",
   "execution_count": null,
   "id": "ba855b42",
   "metadata": {},
   "outputs": [],
   "source": [
    "def sockMerchant(n, ar):\n",
    "    new=[[l, ar.count(l)] for l in set(ar)]\n",
    "    res1=0\n",
    "    for i in range(len(new)):\n",
    "        res=new[i][1]\n",
    "        if res==2:\n",
    "            res1+=1\n",
    "        elif res>2:\n",
    "            re=res//2\n",
    "            res1+=re\n",
    "    return res1\n"
   ]
  }
 ],
 "metadata": {
  "kernelspec": {
   "display_name": "Python 3 (ipykernel)",
   "language": "python",
   "name": "python3"
  },
  "language_info": {
   "codemirror_mode": {
    "name": "ipython",
    "version": 3
   },
   "file_extension": ".py",
   "mimetype": "text/x-python",
   "name": "python",
   "nbconvert_exporter": "python",
   "pygments_lexer": "ipython3",
   "version": "3.9.13"
  }
 },
 "nbformat": 4,
 "nbformat_minor": 5
}
